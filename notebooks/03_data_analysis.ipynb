{
 "cells": [
  {
   "cell_type": "markdown",
   "metadata": {},
   "source": [
    "# LIGA FANTASY ANALYTICS"
   ]
  },
  {
   "cell_type": "markdown",
   "metadata": {},
   "source": [
    "![imag](https://www.laligafantasymarca.com/assets/marca/img/logos/logo-fantasy-marca.png)"
   ]
  },
  {
   "cell_type": "markdown",
   "metadata": {},
   "source": [
    "# DATA ANALYSIS"
   ]
  },
  {
   "cell_type": "markdown",
   "metadata": {},
   "source": [
    "## imports"
   ]
  },
  {
   "cell_type": "code",
   "execution_count": 2,
   "metadata": {},
   "outputs": [],
   "source": [
    "import sqlite3 as db\n",
    "import numpy as np\n",
    "import pandas as pd\n",
    "pd.set_option('display.max_columns', 500)\n",
    "\n",
    "\n",
    "#import soccerdata as sd"
   ]
  },
  {
   "cell_type": "markdown",
   "metadata": {},
   "source": [
    "## read data"
   ]
  },
  {
   "cell_type": "code",
   "execution_count": 51,
   "metadata": {},
   "outputs": [],
   "source": [
    "query = '''\n",
    "SELECT Name,Position,Price,Team,PSFY_current,PSFY_last_year,Date_actua\n",
    "FROM players_price\n",
    "WHERE Date_actua = (SELECT MAX(Date_actua) FROM players_price)\n",
    "'''"
   ]
  },
  {
   "cell_type": "code",
   "execution_count": 52,
   "metadata": {},
   "outputs": [],
   "source": [
    "conn = db.connect('../data/daily_price.db')\n",
    "df = pd.read_sql_query (query, conn)\n",
    "conn.close()"
   ]
  },
  {
   "cell_type": "code",
   "execution_count": 54,
   "metadata": {},
   "outputs": [
    {
     "name": "stderr",
     "output_type": "stream",
     "text": [
      "c:\\Users\\atell\\anaconda3\\envs\\fantasy\\lib\\site-packages\\pandas\\core\\tools\\datetimes.py:1063: UserWarning: Parsing '28/08/2022' in DD/MM/YYYY format. Provide format or specify infer_datetime_format=True for consistent parsing.\n",
      "  cache_array = _maybe_cache(arg, format, cache, convert_listlike)\n"
     ]
    }
   ],
   "source": [
    "df = df.astype({'Name': 'str','Position': 'category','Price':'int','Team':'category',\\\n",
    "    'PSFY_current':'int','PSFY_last_year':'int','Date_actua': 'datetime64' }, errors='ignore')\n",
    "df['PSFY_last_year'] = pd.to_numeric(df['PSFY_last_year'],errors='coerce', downcast='integer')"
   ]
  },
  {
   "cell_type": "code",
   "execution_count": 55,
   "metadata": {},
   "outputs": [
    {
     "data": {
      "text/plain": [
       "Name                      object\n",
       "Position                category\n",
       "Price                      int32\n",
       "Team                    category\n",
       "PSFY_current               int32\n",
       "PSFY_last_year           float64\n",
       "Date_actua        datetime64[ns]\n",
       "dtype: object"
      ]
     },
     "execution_count": 55,
     "metadata": {},
     "output_type": "execute_result"
    }
   ],
   "source": [
    "df.dtypes"
   ]
  },
  {
   "cell_type": "code",
   "execution_count": 56,
   "metadata": {},
   "outputs": [
    {
     "data": {
      "text/html": [
       "<div>\n",
       "<style scoped>\n",
       "    .dataframe tbody tr th:only-of-type {\n",
       "        vertical-align: middle;\n",
       "    }\n",
       "\n",
       "    .dataframe tbody tr th {\n",
       "        vertical-align: top;\n",
       "    }\n",
       "\n",
       "    .dataframe thead th {\n",
       "        text-align: right;\n",
       "    }\n",
       "</style>\n",
       "<table border=\"1\" class=\"dataframe\">\n",
       "  <thead>\n",
       "    <tr style=\"text-align: right;\">\n",
       "      <th></th>\n",
       "      <th>Name</th>\n",
       "      <th>Position</th>\n",
       "      <th>Price</th>\n",
       "      <th>Team</th>\n",
       "      <th>PSFY_current</th>\n",
       "      <th>PSFY_last_year</th>\n",
       "      <th>Date_actua</th>\n",
       "    </tr>\n",
       "  </thead>\n",
       "  <tbody>\n",
       "    <tr>\n",
       "      <th>0</th>\n",
       "      <td>Oblak</td>\n",
       "      <td>POR</td>\n",
       "      <td>38607169</td>\n",
       "      <td>Atlético De Madrid</td>\n",
       "      <td>9</td>\n",
       "      <td>173.0</td>\n",
       "      <td>2022-08-28</td>\n",
       "    </tr>\n",
       "    <tr>\n",
       "      <th>1</th>\n",
       "      <td>Unai Simón</td>\n",
       "      <td>POR</td>\n",
       "      <td>30578958</td>\n",
       "      <td>Athletic Club</td>\n",
       "      <td>16</td>\n",
       "      <td>201.0</td>\n",
       "      <td>2022-08-28</td>\n",
       "    </tr>\n",
       "    <tr>\n",
       "      <th>2</th>\n",
       "      <td>Ter Stegen</td>\n",
       "      <td>POR</td>\n",
       "      <td>40841193</td>\n",
       "      <td>FC Barcelona</td>\n",
       "      <td>16</td>\n",
       "      <td>197.0</td>\n",
       "      <td>2022-08-28</td>\n",
       "    </tr>\n",
       "    <tr>\n",
       "      <th>3</th>\n",
       "      <td>Iván Villar</td>\n",
       "      <td>POR</td>\n",
       "      <td>930007</td>\n",
       "      <td>RC Celta</td>\n",
       "      <td>0</td>\n",
       "      <td>NaN</td>\n",
       "      <td>2022-08-28</td>\n",
       "    </tr>\n",
       "    <tr>\n",
       "      <th>4</th>\n",
       "      <td>David Soria</td>\n",
       "      <td>POR</td>\n",
       "      <td>16469045</td>\n",
       "      <td>Getafe CF</td>\n",
       "      <td>6</td>\n",
       "      <td>212.0</td>\n",
       "      <td>2022-08-28</td>\n",
       "    </tr>\n",
       "    <tr>\n",
       "      <th>...</th>\n",
       "      <td>...</td>\n",
       "      <td>...</td>\n",
       "      <td>...</td>\n",
       "      <td>...</td>\n",
       "      <td>...</td>\n",
       "      <td>...</td>\n",
       "      <td>...</td>\n",
       "    </tr>\n",
       "    <tr>\n",
       "      <th>491</th>\n",
       "      <td>Emery</td>\n",
       "      <td>ENT</td>\n",
       "      <td>2115487</td>\n",
       "      <td>Villarreal CF</td>\n",
       "      <td>12</td>\n",
       "      <td>NaN</td>\n",
       "      <td>2022-08-28</td>\n",
       "    </tr>\n",
       "    <tr>\n",
       "      <th>492</th>\n",
       "      <td>Pacheta</td>\n",
       "      <td>ENT</td>\n",
       "      <td>766920</td>\n",
       "      <td>Real Valladolid CF</td>\n",
       "      <td>3</td>\n",
       "      <td>NaN</td>\n",
       "      <td>2022-08-28</td>\n",
       "    </tr>\n",
       "    <tr>\n",
       "      <th>493</th>\n",
       "      <td>Rubi</td>\n",
       "      <td>ENT</td>\n",
       "      <td>744119</td>\n",
       "      <td>UD Almería</td>\n",
       "      <td>9</td>\n",
       "      <td>NaN</td>\n",
       "      <td>2022-08-28</td>\n",
       "    </tr>\n",
       "    <tr>\n",
       "      <th>494</th>\n",
       "      <td>Michel</td>\n",
       "      <td>ENT</td>\n",
       "      <td>709305</td>\n",
       "      <td>Girona FC</td>\n",
       "      <td>5</td>\n",
       "      <td>NaN</td>\n",
       "      <td>2022-08-28</td>\n",
       "    </tr>\n",
       "    <tr>\n",
       "      <th>495</th>\n",
       "      <td>Ernesto Valverde</td>\n",
       "      <td>ENT</td>\n",
       "      <td>2279183</td>\n",
       "      <td>Athletic Club</td>\n",
       "      <td>8</td>\n",
       "      <td>NaN</td>\n",
       "      <td>2022-08-28</td>\n",
       "    </tr>\n",
       "  </tbody>\n",
       "</table>\n",
       "<p>496 rows × 7 columns</p>\n",
       "</div>"
      ],
      "text/plain": [
       "                 Name Position     Price                Team  PSFY_current  \\\n",
       "0               Oblak      POR  38607169  Atlético De Madrid             9   \n",
       "1          Unai Simón      POR  30578958       Athletic Club            16   \n",
       "2          Ter Stegen      POR  40841193        FC Barcelona            16   \n",
       "3         Iván Villar      POR    930007            RC Celta             0   \n",
       "4         David Soria      POR  16469045           Getafe CF             6   \n",
       "..                ...      ...       ...                 ...           ...   \n",
       "491             Emery      ENT   2115487       Villarreal CF            12   \n",
       "492           Pacheta      ENT    766920  Real Valladolid CF             3   \n",
       "493              Rubi      ENT    744119          UD Almería             9   \n",
       "494            Michel      ENT    709305           Girona FC             5   \n",
       "495  Ernesto Valverde      ENT   2279183       Athletic Club             8   \n",
       "\n",
       "     PSFY_last_year Date_actua  \n",
       "0             173.0 2022-08-28  \n",
       "1             201.0 2022-08-28  \n",
       "2             197.0 2022-08-28  \n",
       "3               NaN 2022-08-28  \n",
       "4             212.0 2022-08-28  \n",
       "..              ...        ...  \n",
       "491             NaN 2022-08-28  \n",
       "492             NaN 2022-08-28  \n",
       "493             NaN 2022-08-28  \n",
       "494             NaN 2022-08-28  \n",
       "495             NaN 2022-08-28  \n",
       "\n",
       "[496 rows x 7 columns]"
      ]
     },
     "execution_count": 56,
     "metadata": {},
     "output_type": "execute_result"
    }
   ],
   "source": [
    "df"
   ]
  },
  {
   "cell_type": "code",
   "execution_count": 57,
   "metadata": {},
   "outputs": [
    {
     "data": {
      "text/html": [
       "<div>\n",
       "<style scoped>\n",
       "    .dataframe tbody tr th:only-of-type {\n",
       "        vertical-align: middle;\n",
       "    }\n",
       "\n",
       "    .dataframe tbody tr th {\n",
       "        vertical-align: top;\n",
       "    }\n",
       "\n",
       "    .dataframe thead th {\n",
       "        text-align: right;\n",
       "    }\n",
       "</style>\n",
       "<table border=\"1\" class=\"dataframe\">\n",
       "  <thead>\n",
       "    <tr style=\"text-align: right;\">\n",
       "      <th></th>\n",
       "      <th>Price</th>\n",
       "      <th>PSFY_current</th>\n",
       "      <th>PSFY_last_year</th>\n",
       "    </tr>\n",
       "  </thead>\n",
       "  <tbody>\n",
       "    <tr>\n",
       "      <th>count</th>\n",
       "      <td>4.960000e+02</td>\n",
       "      <td>496.000000</td>\n",
       "      <td>364.000000</td>\n",
       "    </tr>\n",
       "    <tr>\n",
       "      <th>mean</th>\n",
       "      <td>9.703334e+06</td>\n",
       "      <td>6.233871</td>\n",
       "      <td>97.456044</td>\n",
       "    </tr>\n",
       "    <tr>\n",
       "      <th>std</th>\n",
       "      <td>1.314391e+07</td>\n",
       "      <td>6.628508</td>\n",
       "      <td>61.828749</td>\n",
       "    </tr>\n",
       "    <tr>\n",
       "      <th>min</th>\n",
       "      <td>2.639100e+05</td>\n",
       "      <td>-6.000000</td>\n",
       "      <td>-1.000000</td>\n",
       "    </tr>\n",
       "    <tr>\n",
       "      <th>25%</th>\n",
       "      <td>1.644550e+06</td>\n",
       "      <td>0.000000</td>\n",
       "      <td>48.000000</td>\n",
       "    </tr>\n",
       "    <tr>\n",
       "      <th>50%</th>\n",
       "      <td>4.193215e+06</td>\n",
       "      <td>4.000000</td>\n",
       "      <td>95.000000</td>\n",
       "    </tr>\n",
       "    <tr>\n",
       "      <th>75%</th>\n",
       "      <td>1.261513e+07</td>\n",
       "      <td>10.250000</td>\n",
       "      <td>139.250000</td>\n",
       "    </tr>\n",
       "    <tr>\n",
       "      <th>max</th>\n",
       "      <td>9.507084e+07</td>\n",
       "      <td>32.000000</td>\n",
       "      <td>308.000000</td>\n",
       "    </tr>\n",
       "  </tbody>\n",
       "</table>\n",
       "</div>"
      ],
      "text/plain": [
       "              Price  PSFY_current  PSFY_last_year\n",
       "count  4.960000e+02    496.000000      364.000000\n",
       "mean   9.703334e+06      6.233871       97.456044\n",
       "std    1.314391e+07      6.628508       61.828749\n",
       "min    2.639100e+05     -6.000000       -1.000000\n",
       "25%    1.644550e+06      0.000000       48.000000\n",
       "50%    4.193215e+06      4.000000       95.000000\n",
       "75%    1.261513e+07     10.250000      139.250000\n",
       "max    9.507084e+07     32.000000      308.000000"
      ]
     },
     "execution_count": 57,
     "metadata": {},
     "output_type": "execute_result"
    }
   ],
   "source": [
    "df.describe()"
   ]
  },
  {
   "cell_type": "code",
   "execution_count": null,
   "metadata": {},
   "outputs": [],
   "source": []
  }
 ],
 "metadata": {
  "kernelspec": {
   "display_name": "Python 3.8.13 ('fantasy')",
   "language": "python",
   "name": "python3"
  },
  "language_info": {
   "codemirror_mode": {
    "name": "ipython",
    "version": 3
   },
   "file_extension": ".py",
   "mimetype": "text/x-python",
   "name": "python",
   "nbconvert_exporter": "python",
   "pygments_lexer": "ipython3",
   "version": "3.8.13"
  },
  "orig_nbformat": 4,
  "vscode": {
   "interpreter": {
    "hash": "8aa62ffc8301216cd549ff2f095da6de6bc7c6de688fd59c06fc87a9e4ee0322"
   }
  }
 },
 "nbformat": 4,
 "nbformat_minor": 2
}
